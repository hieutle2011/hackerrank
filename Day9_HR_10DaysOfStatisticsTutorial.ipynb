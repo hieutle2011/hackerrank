{
 "cells": [
  {
   "cell_type": "markdown",
   "metadata": {},
   "source": [
    "# Day 9: Multiple Linear Regression"
   ]
  },
  {
   "cell_type": "code",
   "execution_count": 2,
   "metadata": {},
   "outputs": [
    {
     "name": "stdout",
     "output_type": "stream",
     "text": [
      "51.9534883721 6.6511627907 -11.1627906977\n"
     ]
    }
   ],
   "source": [
    "from sklearn import linear_model\n",
    "x = [[5, 7], [6, 6], [7, 4], [8, 5], [9, 6]]\n",
    "y = [10, 20, 60, 40, 50]\n",
    "lm = linear_model.LinearRegression()\n",
    "lm.fit(x, y)\n",
    "a = lm.intercept_\n",
    "b = lm.coef_\n",
    "print(a, b[0], b[1])"
   ]
  },
  {
   "cell_type": "code",
   "execution_count": null,
   "metadata": {
    "collapsed": true
   },
   "outputs": [],
   "source": [
    "number = [int(i) for i in input().split()]\n",
    "X = []\n",
    "Y = []\n",
    "data = []\n",
    "for i in range(number[1]):\n",
    "    data.append(([float(i) for i in input().split()]))\n",
    "\n",
    "for i in data:\n",
    "    X.append((i[0], i[1]))\n",
    "    Y.append(i[2])\n",
    " # find the value a, b1, b2, ....\n",
    "\n",
    "from sklearn import linear_model\n",
    "x = [[5, 7], [6, 6], [7, 4], [8, 5], [9, 6]]\n",
    "y = [10, 20, 60, 40, 50]\n",
    "lm = linear_model.LinearRegression()\n",
    "lm.fit(x, y)\n",
    "a = lm.intercept_\n",
    "b = lm.coef_\n",
    "print(a, b[0], b[1])\n",
    "\n",
    "# q denotes the number of feature sets (f1, f2)\n",
    "q = int(input())\n",
    "# value of feature sets\n",
    "f = []\n",
    "for i in range(q):\n",
    "    f.append([float(i) for i in input().split()])\n",
    "for i in range(len(f)):\n",
    "    y = f[i][0] * b[0] + f[i][1] *b[1] + a\n",
    "    print(y)"
   ]
  }
 ],
 "metadata": {
  "kernelspec": {
   "display_name": "Python 3",
   "language": "python",
   "name": "python3"
  },
  "language_info": {
   "codemirror_mode": {
    "name": "ipython",
    "version": 3
   },
   "file_extension": ".py",
   "mimetype": "text/x-python",
   "name": "python",
   "nbconvert_exporter": "python",
   "pygments_lexer": "ipython3",
   "version": "3.5.2"
  }
 },
 "nbformat": 4,
 "nbformat_minor": 2
}
