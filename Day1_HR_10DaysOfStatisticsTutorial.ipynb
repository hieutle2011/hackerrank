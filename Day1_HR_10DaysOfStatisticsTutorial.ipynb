{
 "cells": [
  {
   "cell_type": "markdown",
   "metadata": {},
   "source": [
    "# Day 1: Quartiles"
   ]
  },
  {
   "cell_type": "code",
   "execution_count": 49,
   "metadata": {
    "collapsed": true
   },
   "outputs": [],
   "source": [
    "# End of day1 ranking 29702 in python leaderboard with 210 pts"
   ]
  },
  {
   "cell_type": "markdown",
   "metadata": {
    "collapsed": true
   },
   "source": [
    "https://www.hackerrank.com/challenges/s10-quartiles"
   ]
  },
  {
   "cell_type": "markdown",
   "metadata": {},
   "source": [
    "https://medium.com/pymi/d%C3%B9ng-python-%C4%91%E1%BB%83-h%E1%BB%8Dc-th%E1%BB%91ng-k%C3%AA-8e41dfdaaf97"
   ]
  },
  {
   "cell_type": "code",
   "execution_count": 29,
   "metadata": {},
   "outputs": [
    {
     "name": "stdout",
     "output_type": "stream",
     "text": [
      "6\n",
      "12\n",
      "16\n"
     ]
    }
   ],
   "source": [
    "n = '9'\n",
    "inp = '3 7 8 5 12 14 21 13 18'\n",
    "N = int(n)\n",
    "numbers = list(map(int, inp.split()))\n",
    "numbers = sorted(numbers)\n",
    "\n",
    "\n",
    "def l_half(data):\n",
    "    n = len(data)\n",
    "    if n%2 == 1:\n",
    "        l = numbers[:n//2]\n",
    "    else:\n",
    "        l = numbers[:n//2]\n",
    "    return l\n",
    "\n",
    "def r_half(data):\n",
    "    n = len(data)\n",
    "    if n%2 == 1:\n",
    "        r = numbers[n//2+1:]\n",
    "    else:\n",
    "        r = numbers[n//2:]\n",
    "    return r\n",
    "\n",
    "\n",
    "def average(x, y):\n",
    "    return int((x+y)/2)\n",
    "\n",
    "def median(data):\n",
    "    n = len(data)\n",
    "    if n%2 == 1:\n",
    "        return data[n//2]\n",
    "    else:\n",
    "        return average(data[n//2-1], data[n//2])\n",
    "\n",
    "def Q1(data):\n",
    "    return median(l_half(data))\n",
    "\n",
    "def Q2(data):\n",
    "    return median(data)\n",
    "\n",
    "def Q3(data):\n",
    "    return median(r_half(data))\n",
    "\n",
    "print(Q1(numbers))\n",
    "print(Q2(numbers))\n",
    "print(Q3(numbers))"
   ]
  },
  {
   "cell_type": "markdown",
   "metadata": {},
   "source": [
    "# Day 1: Interquartile Range"
   ]
  },
  {
   "cell_type": "raw",
   "metadata": {},
   "source": [
    "Task\n",
    "The interquartile range of an array is the difference between its first (Q1) and third (Q3) quartiles (i.e., )."
   ]
  },
  {
   "cell_type": "code",
   "execution_count": 35,
   "metadata": {},
   "outputs": [
    {
     "name": "stdout",
     "output_type": "stream",
     "text": [
      "[6, 6, 6, 6, 6, 8, 8, 8, 10, 10, 12, 12, 12, 12, 16, 16, 16, 16, 16, 20]\n",
      "7.0 11.0 16.0\n",
      "9.0\n"
     ]
    }
   ],
   "source": [
    "line2 = '6 12 8 10 20 16'\n",
    "line3 = '5 4 3 2 1 5' # frequency of element in line2\n",
    "\n",
    "X = list(map(int, line2.split()))\n",
    "F = list(map(int, line3.split()))\n",
    "\n",
    "S = []\n",
    "n = len(X)\n",
    "for i in range(n):\n",
    "    S += [X[i]] * F[i]\n",
    "numbers = sorted(S)\n",
    "# print(numbers) == [6, 6, 6, 6, 6, 8, 8, 8, 10, 10, 12, 12, 12, 12, 16, 16, 16, 16, 16, 20]\n",
    "\n",
    "def l_half(data):\n",
    "    n = len(data)\n",
    "    if n%2 == 1:\n",
    "        l = numbers[:n//2]\n",
    "    else:\n",
    "        l = numbers[:n//2]\n",
    "    return l\n",
    "\n",
    "def r_half(data):\n",
    "    n = len(data)\n",
    "    if n%2 == 1:\n",
    "        r = numbers[n//2+1:]\n",
    "    else:\n",
    "        r = numbers[n//2:]\n",
    "    return r\n",
    "\n",
    "\n",
    "def average(x, y):\n",
    "    return (x+y)/2\n",
    "\n",
    "def median(data):\n",
    "    n = len(data)\n",
    "    if n%2 == 1:\n",
    "        return float(data[n//2])\n",
    "    else:\n",
    "        return average(data[n//2-1], data[n//2])\n",
    "\n",
    "def Q1(data):\n",
    "    return median(l_half(data))\n",
    "\n",
    "def Q2(data):\n",
    "    return median(data)\n",
    "\n",
    "def Q3(data):\n",
    "    return median(r_half(data))\n",
    "\n",
    "print(numbers)\n",
    "print(Q1(numbers),Q2(numbers),Q3(numbers))\n",
    "print(Q3(numbers) - Q1(numbers))"
   ]
  },
  {
   "cell_type": "markdown",
   "metadata": {},
   "source": [
    "# Day 1: Standard Deviation"
   ]
  },
  {
   "cell_type": "markdown",
   "metadata": {},
   "source": [
    "https://www.hackerrank.com/challenges/s10-standard-deviation"
   ]
  },
  {
   "cell_type": "code",
   "execution_count": 48,
   "metadata": {},
   "outputs": [
    {
     "name": "stdout",
     "output_type": "stream",
     "text": [
      "14.1\n"
     ]
    }
   ],
   "source": [
    "line1 = '5'\n",
    "line2 = '10 40 30 50 20'\n",
    "\n",
    "numbers = list(map(int, line2.split()))\n",
    "\n",
    "def mean(data):\n",
    "    n = len(data)\n",
    "    return sum(data)/n\n",
    "\n",
    "\n",
    "def var(data):\n",
    "    n = len(data)\n",
    "    dif_sq = sum([((i-mean(data))**2) for i in data])\n",
    "    return (dif_sq/n)**(1/2)\n",
    "\n",
    "print(round(var(numbers),1))"
   ]
  },
  {
   "cell_type": "code",
   "execution_count": null,
   "metadata": {
    "collapsed": true
   },
   "outputs": [],
   "source": []
  }
 ],
 "metadata": {
  "kernelspec": {
   "display_name": "Python 3",
   "language": "python",
   "name": "python3"
  },
  "language_info": {
   "codemirror_mode": {
    "name": "ipython",
    "version": 3
   },
   "file_extension": ".py",
   "mimetype": "text/x-python",
   "name": "python",
   "nbconvert_exporter": "python",
   "pygments_lexer": "ipython3",
   "version": "3.5.2"
  }
 },
 "nbformat": 4,
 "nbformat_minor": 2
}
