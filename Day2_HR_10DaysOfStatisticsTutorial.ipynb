{
 "cells": [
  {
   "cell_type": "markdown",
   "metadata": {},
   "source": [
    "# Basic probability"
   ]
  },
  {
   "cell_type": "markdown",
   "metadata": {},
   "source": [
    "In a single toss of 2 fair (evenly-weighted) six-sided dice, find the probability that their sum will be at most 9"
   ]
  },
  {
   "cell_type": "code",
   "execution_count": 9,
   "metadata": {},
   "outputs": [
    {
     "name": "stdout",
     "output_type": "stream",
     "text": [
      "5/6\n"
     ]
    }
   ],
   "source": [
    "from fractions import Fraction\n",
    "\n",
    "#outcomes for each toss of the dice\n",
    "toss1 = list(range(1, 7))\n",
    "toss2 = list(range(1, 7))\n",
    "\n",
    "# number of favourable outcomes == count how many times sum be at most 9\n",
    "count = 0\n",
    "for i in toss1:\n",
    "    for j in toss2:\n",
    "        if i + j <= 9:\n",
    "            count += 1\n",
    "\n",
    "# total number of outcomes\n",
    "total = len(toss1) * len(toss2)\n",
    "\n",
    "# probability of sum be at most 9\n",
    "prob = Fraction(count) / Fraction(total)\n",
    "print(prob)"
   ]
  },
  {
   "cell_type": "code",
   "execution_count": null,
   "metadata": {
    "collapsed": true
   },
   "outputs": [],
   "source": []
  },
  {
   "cell_type": "markdown",
   "metadata": {},
   "source": [
    "# More dice"
   ]
  },
  {
   "cell_type": "markdown",
   "metadata": {},
   "source": [
    "In a single toss of 2 fair (evenly-weighted) six-sided dice, find the probability that the values rolled by each die will be different and the two dice have a sum of 6. "
   ]
  },
  {
   "cell_type": "code",
   "execution_count": 13,
   "metadata": {},
   "outputs": [
    {
     "name": "stdout",
     "output_type": "stream",
     "text": [
      "1/9\n"
     ]
    }
   ],
   "source": [
    "from fractions import Fraction\n",
    "\n",
    "#outcomes for each toss of the dice\n",
    "toss1 = list(range(1, 7))\n",
    "toss2 = list(range(1, 7))\n",
    "\n",
    "# number of favourable outcomes == count how many times sum is 6 where 2 values are different\n",
    "count = 0\n",
    "for i in toss1:\n",
    "    for j in toss2:\n",
    "        if i + j == 6 and i != j:\n",
    "            count += 1\n",
    "\n",
    "# total number of outcomes\n",
    "total = len(toss1) * len(toss2)\n",
    "\n",
    "# probability\n",
    "prob = Fraction(count) / Fraction(total)\n",
    "print(prob)"
   ]
  },
  {
   "cell_type": "markdown",
   "metadata": {},
   "source": [
    "# Compound Event Probability"
   ]
  },
  {
   "cell_type": "code",
   "execution_count": 30,
   "metadata": {},
   "outputs": [
    {
     "name": "stdout",
     "output_type": "stream",
     "text": [
      "17/42\n"
     ]
    }
   ],
   "source": [
    "from fractions import Fraction\n",
    "\n",
    "# 3 urns with different number of balls\n",
    "\n",
    "X = [4, 3] # number of [red, black] balls in urn X\n",
    "Y = [5, 4]\n",
    "Z = [4, 4]\n",
    "\n",
    "#prob of picking red one in X, Y, Z urn respectively\n",
    "red_x = Fraction(X[0]) / sum(X)\n",
    "red_y = Fraction(Y[0]) / sum(Y)\n",
    "red_z = Fraction(Z[0]) / sum(Z)\n",
    "red = [red_x, red_y, red_z]\n",
    "\n",
    "#prob of picking black one in X, Y, Z urn respectively\n",
    "black_x = Fraction(X[1]) / sum(X)\n",
    "black_y = Fraction(Y[1]) / sum(Y)\n",
    "black_z = Fraction(Z[1]) / sum(Z)\n",
    "black = [black_x, black_y, black_z]\n",
    "\n",
    "# prob of pick 2 reds and 1 black == sum prob of 3 outcomes\n",
    "prob_1 = red[0] * red[1] * black[2]\n",
    "prob_2 = red[0] * red[2] * black[1]\n",
    "prob_3 = red[1] * red[2] * black[0]\n",
    "print(prob_1 + prob_2 + prob_3)\n",
    "        "
   ]
  },
  {
   "cell_type": "code",
   "execution_count": null,
   "metadata": {
    "collapsed": true
   },
   "outputs": [],
   "source": []
  }
 ],
 "metadata": {
  "kernelspec": {
   "display_name": "Python 3",
   "language": "python",
   "name": "python3"
  },
  "language_info": {
   "codemirror_mode": {
    "name": "ipython",
    "version": 3
   },
   "file_extension": ".py",
   "mimetype": "text/x-python",
   "name": "python",
   "nbconvert_exporter": "python",
   "pygments_lexer": "ipython3",
   "version": "3.5.2"
  }
 },
 "nbformat": 4,
 "nbformat_minor": 2
}
