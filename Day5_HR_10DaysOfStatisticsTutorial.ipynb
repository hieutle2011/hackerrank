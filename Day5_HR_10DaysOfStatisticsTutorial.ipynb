{
 "cells": [
  {
   "cell_type": "markdown",
   "metadata": {},
   "source": [
    "# Poisson Distribution"
   ]
  },
  {
   "cell_type": "markdown",
   "metadata": {},
   "source": [
    "### Poisson Random Variables"
   ]
  },
  {
   "cell_type": "markdown",
   "metadata": {},
   "source": [
    "We've already learned that we can break many problems down into terms of , , and and use the following formula for binomial random variables: "
   ]
  },
  {
   "cell_type": "markdown",
   "metadata": {},
   "source": [
    "$$ p(x) = \n",
    "\\begin{pmatrix}\n",
    "n \\\\\n",
    "x\n",
    "\\end{pmatrix} \n",
    ".p ^ x . (1 - p) ^ {n-x}\n",
    "$$"
   ]
  },
  {
   "cell_type": "markdown",
   "metadata": {},
   "source": [
    "But what do we do when cannot be calculated using that formula? Enter the Poisson random variable. "
   ]
  },
  {
   "cell_type": "markdown",
   "metadata": {},
   "source": [
    "### Poisson Experiment"
   ]
  },
  {
   "cell_type": "markdown",
   "metadata": {},
   "source": [
    "A Poisson experiment is a statistical experiment that has the following properties:\n",
    "\n",
    "    The outcome of each trial is either success or failure.\n",
    "    The average number of successes $\\lambda$ that occurs in a specified region is known.\n",
    "    The probability that a success will occur is proportional to the size of the region.\n",
    "    The probability that a success will occur in an extremely small region is virtually zero."
   ]
  },
  {
   "cell_type": "markdown",
   "metadata": {},
   "source": [
    "### Poisson Distribution"
   ]
  },
  {
   "cell_type": "markdown",
   "metadata": {},
   "source": [
    "A Poisson random variable is the number of successes that result from a Poisson experiment. The probability distribution of a Poisson random variable is called a Poisson distribution: "
   ]
  },
  {
   "cell_type": "markdown",
   "metadata": {},
   "source": [
    "$$ P(k,\\lambda) = \\frac {\\lambda ^ k e ^ {-\\lambda}} {k!} $$"
   ]
  },
  {
   "cell_type": "raw",
   "metadata": {},
   "source": [
    "Here:\n",
    "e = 2.71828\n",
    "Lambda is the average number of successes that occur in a specified region.\n",
    "k is the actual number of successes that occur in a specified region.\n",
    "P(k,lambda) is the Poisson probability, which is the probability of getting exactly k successes when the average number of successes is lambda. "
   ]
  },
  {
   "cell_type": "markdown",
   "metadata": {},
   "source": [
    "#### Example"
   ]
  },
  {
   "cell_type": "markdown",
   "metadata": {},
   "source": [
    "Acme Realty company sells an average of homes 2 per day. What is the probability that exactly 3 homes will be sold tomorrow? \n",
    "--> lambda = 2 and k = 3"
   ]
  },
  {
   "cell_type": "markdown",
   "metadata": {},
   "source": [
    "Suppose the average number of lions seen by tourists on a one-day safari is 5. What is the probability that tourists will see fewer than 4 lions on the next one-day safari? --> lamda = 5 and k <= 3"
   ]
  },
  {
   "cell_type": "markdown",
   "metadata": {},
   "source": [
    "## Special case"
   ]
  },
  {
   "cell_type": "markdown",
   "metadata": {},
   "source": [
    "$$E[X ^ 2] = \\lambda + \\lambda ^ 2$$"
   ]
  },
  {
   "cell_type": "markdown",
   "metadata": {},
   "source": [
    "### Exercise"
   ]
  },
  {
   "cell_type": "markdown",
   "metadata": {},
   "source": [
    "A random variable, X, follows Poisson distribution with mean of 2.5. Find the probability with which the random variable X is equal to 5."
   ]
  },
  {
   "cell_type": "code",
   "execution_count": 10,
   "metadata": {
    "scrolled": true
   },
   "outputs": [
    {
     "name": "stdout",
     "output_type": "stream",
     "text": [
      "0.067\n"
     ]
    }
   ],
   "source": [
    "import math\n",
    "lamb = 2.5\n",
    "k = 5\n",
    "def Poisson(lamb, k):\n",
    "    return (lamb ** k)* (math.e ** (-lamb)) / math.factorial(k)\n",
    "print(round(Poisson(lamb, k), 3))\n"
   ]
  },
  {
   "cell_type": "markdown",
   "metadata": {},
   "source": [
    "### Exercise"
   ]
  },
  {
   "cell_type": "markdown",
   "metadata": {},
   "source": [
    "Calculation expected daily cost for each type machine A and B"
   ]
  },
  {
   "cell_type": "code",
   "execution_count": 11,
   "metadata": {},
   "outputs": [
    {
     "name": "stdout",
     "output_type": "stream",
     "text": [
      "226.176\n",
      "286.1\n"
     ]
    }
   ],
   "source": [
    "lamb_a = 0.88\n",
    "lamb_b = 1.55\n",
    "\n",
    "e_repair_a = lamb_a + lamb_a ** 2\n",
    "e_repair_b = lamb_b + lamb_b ** 2\n",
    "\n",
    "cost_a = 160 + 40 * e_repair_a\n",
    "cost_b = 128 + 40 * e_repair_b\n",
    "\n",
    "print(round(cost_a, 3))\n",
    "print(round(cost_b, 3))"
   ]
  },
  {
   "cell_type": "markdown",
   "metadata": {},
   "source": [
    "# Normal Distribution"
   ]
  },
  {
   "cell_type": "markdown",
   "metadata": {},
   "source": [
    "## Normal Distribution"
   ]
  },
  {
   "cell_type": "markdown",
   "metadata": {},
   "source": [
    "https://en.wikipedia.org/wiki/Normal_distribution#Cumulative_distribution_function"
   ]
  },
  {
   "cell_type": "markdown",
   "metadata": {},
   "source": [
    "## Normal Standard Distribution"
   ]
  },
  {
   "cell_type": "markdown",
   "metadata": {},
   "source": [
    "## Culmulative Probability"
   ]
  },
  {
   "cell_type": "markdown",
   "metadata": {},
   "source": [
    "https://docs.python.org/3.5/library/math.html#math.erf"
   ]
  },
  {
   "cell_type": "markdown",
   "metadata": {},
   "source": [
    "#### Exercise"
   ]
  },
  {
   "cell_type": "code",
   "execution_count": 29,
   "metadata": {},
   "outputs": [
    {
     "name": "stdout",
     "output_type": "stream",
     "text": [
      "0.401\n",
      "0.341\n"
     ]
    }
   ],
   "source": [
    "import math\n",
    "mean = 20\n",
    "stdev = 2\n",
    "def phi(x):\n",
    "    return (1 + math.erf((x - mean)/(stdev * 2 ** (1/2)))) / 2\n",
    "\n",
    "# probability lower than 19.5\n",
    "print(round(phi(19.5), 3))\n",
    "# probability between 20 and 22\n",
    "print(round(phi(22) - phi(20), 3))"
   ]
  },
  {
   "cell_type": "markdown",
   "metadata": {},
   "source": [
    "### Exercise"
   ]
  },
  {
   "cell_type": "code",
   "execution_count": 5,
   "metadata": {},
   "outputs": [
    {
     "name": "stdout",
     "output_type": "stream",
     "text": [
      "15.87\n",
      "84.13\n",
      "15.87\n"
     ]
    }
   ],
   "source": [
    "import math\n",
    "mean = 70\n",
    "stdev = 10\n",
    "def phi(x):\n",
    "    return (1 + math.erf((x - mean)/(stdev * math.sqrt(2)))) / 2\n",
    "\n",
    "# percentage of score higher than 80\n",
    "high = 1 - phi(80)\n",
    "# percentage of passing the test = higher than 60\n",
    "normal = 1 - phi(60)\n",
    "# percentage of failures\n",
    "fail = phi(60)\n",
    "\n",
    "print(round(100 * high, 2))\n",
    "print(round(100 * normal, 2))\n",
    "print(round(100 * fail, 2))"
   ]
  }
 ],
 "metadata": {
  "kernelspec": {
   "display_name": "Python 3",
   "language": "python",
   "name": "python3"
  },
  "language_info": {
   "codemirror_mode": {
    "name": "ipython",
    "version": 3
   },
   "file_extension": ".py",
   "mimetype": "text/x-python",
   "name": "python",
   "nbconvert_exporter": "python",
   "pygments_lexer": "ipython3",
   "version": "3.5.2"
  }
 },
 "nbformat": 4,
 "nbformat_minor": 2
}
