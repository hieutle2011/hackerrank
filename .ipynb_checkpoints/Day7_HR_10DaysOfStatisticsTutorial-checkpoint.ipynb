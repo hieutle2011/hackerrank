{
 "cells": [
  {
   "cell_type": "markdown",
   "metadata": {},
   "source": [
    "# Day 7: Pearson Correlation Coefficient I "
   ]
  },
  {
   "cell_type": "markdown",
   "metadata": {},
   "source": [
    "In statistics, the Pearson correlation coefficient (PCC, pronounced /ˈpɪərsən/), also referred to as the Pearson's r, Pearson product-moment correlation coefficient (PPMCC) or bivariate correlation, is a measure of the linear correlation between two variables X and Y. It has a value between +1 and −1, where 1 is total positive linear correlation, 0 is no linear correlation, and −1 is total negative linear correlation.\n",
    "\n",
    "https://en.wikipedia.org/wiki/Pearson_correlation_coefficient"
   ]
  },
  {
   "cell_type": "markdown",
   "metadata": {},
   "source": [
    "We use the following formula to calculate the Pearson correlation coefficient: "
   ]
  },
  {
   "cell_type": "markdown",
   "metadata": {},
   "source": [
    "$$\\rho_{x,y} = \\frac {\\sum(x_i - \\mu_x).(y_i - \\mu_y)} {n.\\sigma_x.\\sigma_y}$$"
   ]
  },
  {
   "cell_type": "markdown",
   "metadata": {},
   "source": [
    "#### Note: $n_X$ should equal $n_Y$"
   ]
  },
  {
   "cell_type": "markdown",
   "metadata": {},
   "source": [
    "### Exercise"
   ]
  },
  {
   "cell_type": "markdown",
   "metadata": {},
   "source": [
    "Print the value of the Pearson correlation coefficient, rounded to a scale of decimal places.\n",
    "\n",
    "Sample Input\n",
    "\n",
    "10\n",
    "\n",
    "10 9.8 8 7.8 7.7 7 6 5 4 2 \n",
    "\n",
    "200 44 32 24 22 17 15 12 8 4\n",
    "\n",
    "The first line contains an integer, n, denoting the size of data sets X and Y.\n",
    "\n",
    "The second line contains n space-separated real numbers (scaled to at most one decimal place), defining data set X.\n",
    "\n",
    "The third line contains n space-separated real numbers (scaled to at most one decimal place), defining data set Y.\n"
   ]
  },
  {
   "cell_type": "code",
   "execution_count": 1,
   "metadata": {},
   "outputs": [
    {
     "name": "stdout",
     "output_type": "stream",
     "text": [
      "0.612\n"
     ]
    }
   ],
   "source": [
    "import math\n",
    "# n = int(input())\n",
    "# X = [float(i) for i in input().split()]\n",
    "# Y = [float(i) for i in input().split()]\n",
    "\n",
    "n = 10\n",
    "X = [10, 9.8, 8, 7.8, 7.7, 7, 6, 5, 4, 2]\n",
    "Y = [200, 44, 32, 24, 22, 17, 15, 12, 8, 4]\n",
    "\n",
    "# Calulating mean, std of X and Y\n",
    "mean_x = sum(X) / n\n",
    "mean_y = sum(Y) / n\n",
    "\n",
    "var_x = sum([(i - mean_x) ** 2 for i in X]) / n\n",
    "std_x = math.sqrt(var_x)\n",
    "\n",
    "var_y = sum([(i - mean_y) ** 2 for i in Y]) / n\n",
    "std_y = math.sqrt(var_y)\n",
    "\n",
    "lst = []\n",
    "for i in range(n):\n",
    "    lst.append((X[i] - mean_x) * (Y[i] - mean_y))\n",
    "\n",
    "ro = sum(lst) / (n * std_x * std_y)\n",
    "print(round(ro, 3))"
   ]
  },
  {
   "cell_type": "code",
   "execution_count": 30,
   "metadata": {},
   "outputs": [
    {
     "data": {
      "text/plain": [
       "0.612"
      ]
     },
     "execution_count": 30,
     "metadata": {},
     "output_type": "execute_result"
    }
   ],
   "source": [
    "# Creating function Pearson\n",
    "import math\n",
    "\n",
    "def Pearson(X, Y):\n",
    "    'return the linear correlation between two variables X and Y'\n",
    "    n = len(X)\n",
    "    mean_x = sum(X) / n\n",
    "    mean_y = sum(Y) / n\n",
    "    var_x = sum([(i - mean_x) ** 2 for i in X]) / n\n",
    "    std_x = math.sqrt(var_x)\n",
    "    var_y = sum([(i - mean_y) ** 2 for i in Y]) / n\n",
    "    std_y = math.sqrt(var_y)\n",
    "    lst = []\n",
    "    for i in range(n):\n",
    "        try:\n",
    "            lst.append((X[i] - mean_x) * (Y[i] - mean_y))\n",
    "        except:\n",
    "            print('Error: the number of values in X is different from in Y')\n",
    "            exit()\n",
    "    ro = sum(lst) / (n * std_x * std_y)\n",
    "    return round(ro, 3)\n",
    "\n",
    "\n",
    "X = [10, 9.8, 8, 7.8, 7.7, 7, 6, 5, 4, 2]\n",
    "Y = [200, 44, 32, 24, 22, 17, 15, 12, 8, 4]\n",
    "\n",
    "Pearson(X, Y)"
   ]
  },
  {
   "cell_type": "markdown",
   "metadata": {},
   "source": [
    "# Day 7: Spearman's Rank Correlation Coefficient"
   ]
  },
  {
   "cell_type": "markdown",
   "metadata": {},
   "source": [
    "https://en.wikipedia.org/wiki/Spearman%27s_rank_correlation_coefficient"
   ]
  },
  {
   "cell_type": "markdown",
   "metadata": {},
   "source": [
    "The point is to have $Rank_X$ and $Rank_Y$ from X and Y, then using them as input of function Pearson to calculate the Spearman's Rank Correlation Coefficient $r_s$ --> $r_s$ = Pearson($Rank_X$, $Rank_Y$)"
   ]
  },
  {
   "cell_type": "markdown",
   "metadata": {},
   "source": [
    "$$r_s = Pearson(Rank_X, Rank_Y)$$"
   ]
  },
  {
   "cell_type": "markdown",
   "metadata": {},
   "source": [
    "Special Case: X and Y Don't Contain Duplicates"
   ]
  },
  {
   "cell_type": "markdown",
   "metadata": {},
   "source": [
    "$$r_s = 1 - \\frac {6. \\sum(d_i^2)} {n.(n^2 - 1)}$$"
   ]
  },
  {
   "cell_type": "markdown",
   "metadata": {},
   "source": [
    "Here, $d_i$ is the difference between the respective values of $Rank_X$ and $Rank_Y$. "
   ]
  },
  {
   "cell_type": "markdown",
   "metadata": {},
   "source": [
    "### Exercise"
   ]
  },
  {
   "cell_type": "markdown",
   "metadata": {},
   "source": [
    "https://www.hackerrank.com/challenges/s10-spearman-rank-correlation-coefficient/problem"
   ]
  },
  {
   "cell_type": "markdown",
   "metadata": {},
   "source": [
    "Sample Input --> all unique values in both X and Y then we can use the formula for special case\n",
    "\n",
    "10\n",
    "\n",
    "10 9.8 8 7.8 7.7 1.7 6 5 1.4 2 \n",
    "\n",
    "200 44 32 24 22 17 15 12 8 4\n"
   ]
  },
  {
   "cell_type": "code",
   "execution_count": 29,
   "metadata": {},
   "outputs": [
    {
     "name": "stdout",
     "output_type": "stream",
     "text": [
      "10\n",
      "10 9.8 8 7.8 7.7 1.7 6 5 1.4 2 \n",
      "200 44 32 24 22 17 15 12 8 4\n",
      "0.903\n"
     ]
    }
   ],
   "source": [
    "n = int(input())\n",
    "X = [float(i) for i in input().split()]\n",
    "Y = [float(i) for i in input().split()]\n",
    "\n",
    "\n",
    "def Rank(data):\n",
    "    lst = list(enumerate(sorted(data), start=1))\n",
    "    di = dict([(k, v) for v, k in lst])\n",
    "    lst = [di[i] for i in data]\n",
    "    return lst\n",
    "\n",
    "\n",
    "# Using formular for special case (no duplicate value in X and Y)\n",
    "d = [(Rank(X)[i] - Rank(Y)[i]) ** 2 for i in range(len(X))]\n",
    "result = 1 - 6 * sum(d) / (n * (n ** 2 - 1))\n",
    "    \n",
    "print(round(result, 3))"
   ]
  }
 ],
 "metadata": {
  "kernelspec": {
   "display_name": "Python 3",
   "language": "python",
   "name": "python3"
  },
  "language_info": {
   "codemirror_mode": {
    "name": "ipython",
    "version": 3
   },
   "file_extension": ".py",
   "mimetype": "text/x-python",
   "name": "python",
   "nbconvert_exporter": "python",
   "pygments_lexer": "ipython3",
   "version": "3.5.2"
  }
 },
 "nbformat": 4,
 "nbformat_minor": 2
}
