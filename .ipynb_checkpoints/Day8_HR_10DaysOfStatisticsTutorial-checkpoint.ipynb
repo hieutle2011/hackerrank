{
 "cells": [
  {
   "cell_type": "markdown",
   "metadata": {},
   "source": [
    "# Day 8: Least Square Regression Line"
   ]
  },
  {
   "cell_type": "markdown",
   "metadata": {},
   "source": [
    "https://www.hackerrank.com/challenges/s10-least-square-regression-line/tutorial"
   ]
  },
  {
   "cell_type": "markdown",
   "metadata": {},
   "source": [
    "$$y = a + b.x$$"
   ]
  },
  {
   "cell_type": "markdown",
   "metadata": {},
   "source": [
    "### Finding the value of b, in 2 ways:"
   ]
  },
  {
   "cell_type": "markdown",
   "metadata": {},
   "source": [
    "$$b = \\frac {n\\sum(x_iy_i) - (\\sum{x_i})(\\sum{y_i})} {n\\sum(x_i^2) - (\\sum{x_i)}^2}$$"
   ]
  },
  {
   "cell_type": "markdown",
   "metadata": {},
   "source": [
    "$$b = \\rho . \\frac {\\sigma_Y} {\\sigma_X}$$"
   ]
  },
  {
   "cell_type": "markdown",
   "metadata": {},
   "source": [
    "Where $\\rho$ is the Pearson correlation coefficiant"
   ]
  },
  {
   "cell_type": "markdown",
   "metadata": {},
   "source": [
    "### Finding the value of a"
   ]
  },
  {
   "cell_type": "markdown",
   "metadata": {},
   "source": [
    "$$a = \\bar {y} - b . \\bar {x}$$"
   ]
  },
  {
   "cell_type": "code",
   "execution_count": 12,
   "metadata": {},
   "outputs": [
    {
     "name": "stdout",
     "output_type": "stream",
     "text": [
      "0.6\n",
      "0.8\n"
     ]
    }
   ],
   "source": [
    "# Another way to find a, b by using sklearn\n",
    "\n",
    "from sklearn import linear_model\n",
    "import numpy as np\n",
    "xl = [1, 2, 3, 4, 5]\n",
    "x = np.asarray(xl).reshape(-1, 1)\n",
    "y = [2, 1, 4, 3, 5]\n",
    "lm = linear_model.LinearRegression()\n",
    "lm.fit(x, y)\n",
    "print(lm.intercept_)\n",
    "print(lm.coef_[0])"
   ]
  },
  {
   "cell_type": "markdown",
   "metadata": {},
   "source": [
    "### Exercise"
   ]
  },
  {
   "cell_type": "markdown",
   "metadata": {},
   "source": [
    "A group of five students enrolls in Statistics immediately after taking a Math aptitude test. Each student's Math aptitude test score, x, and Statistics course grade, y, can be expressed as the following list of points:\n"
   ]
  },
  {
   "cell_type": "code",
   "execution_count": 8,
   "metadata": {},
   "outputs": [],
   "source": [
    "l0 = '95 85'\n",
    "l1 = '85 95'\n",
    "l2 = '80 70'\n",
    "l3 = '70 65'\n",
    "l4 = '60 70'\n"
   ]
  },
  {
   "cell_type": "code",
   "execution_count": 14,
   "metadata": {},
   "outputs": [
    {
     "name": "stdout",
     "output_type": "stream",
     "text": [
      "78.288\n"
     ]
    }
   ],
   "source": [
    "from sklearn import linear_model\n",
    "import numpy as np\n",
    "xl = [95, 85, 80, 70, 60]\n",
    "x = np.asarray(xl).reshape(-1, 1)\n",
    "y = [85, 95, 70, 65, 70]\n",
    "lm = linear_model.LinearRegression()\n",
    "lm.fit(x, y)\n",
    "a = lm.intercept_\n",
    "b = lm.coef_[0]\n",
    "\n",
    "# If we know math score of student (x = 80) --> stat score (y = a + b*x) == 78.288\n",
    "math_score = 80\n",
    "stat_score = a + b * math_score\n",
    "print(round(stat_score,3))"
   ]
  },
  {
   "cell_type": "code",
   "execution_count": 13,
   "metadata": {
    "scrolled": false
   },
   "outputs": [
    {
     "name": "stdout",
     "output_type": "stream",
     "text": [
      "95 85\n",
      "85 95\n",
      "80 70\n",
      "70 65\n",
      "60 70\n",
      "78.288\n"
     ]
    }
   ],
   "source": [
    "# Create a list x, y where math and stat scores of each student are stored\n",
    "\n",
    "x = [] # math scores of all student\n",
    "y = [] # stat scores of all student\n",
    "\n",
    "for i in range(5):\n",
    "    a = [int(i) for i in input().split()]\n",
    "    x.append(a[0])\n",
    "    y.append(a[1])\n",
    "\n",
    "n = len(x)\n",
    "mean_x = sum(x) / n\n",
    "mean_y = sum(y) / n\n",
    "x_square = sum([i ** 2 for i in x])\n",
    "sum_xy = sum([x[i] * y[i] for i in range(n)])\n",
    "\n",
    "# find a and b\n",
    "math_score = 80\n",
    "b = (n * sum_xy - sum(x) * sum(y)) / (n * x_square - sum(x) ** 2)\n",
    "a = mean_y - mean_x * b\n",
    "\n",
    "# If we know math score of student (x = 80) --> stat score (y = a + b*x)\n",
    "stat_score = a + b * math_score\n",
    "print(round(stat_score, 3))"
   ]
  },
  {
   "cell_type": "markdown",
   "metadata": {},
   "source": [
    "# Day 8: Pearson Correlation Coefficient II"
   ]
  },
  {
   "cell_type": "markdown",
   "metadata": {},
   "source": [
    "The regression line of y on x is 3x + 4y + 8 = 0 and \n",
    "The regression line of x on y is 4x + 3y + 7 = 0\n",
    "What is the value of the Pearson correlation coefficient?\n",
    "\n",
    "--> we can rewrite as:\n",
    "y = -8 + (-3/4).x\n",
    "x = -7 + (-3/4).y"
   ]
  },
  {
   "cell_type": "markdown",
   "metadata": {},
   "source": [
    "Using the 2 formula below, we can solve the problem:"
   ]
  },
  {
   "cell_type": "markdown",
   "metadata": {},
   "source": [
    "$$b = \\rho . \\frac {\\sigma_Y} {\\sigma_X}$$"
   ]
  },
  {
   "cell_type": "markdown",
   "metadata": {},
   "source": [
    "$\\rho_{XY}$, The Pearson correlation coefficient"
   ]
  },
  {
   "cell_type": "markdown",
   "metadata": {},
   "source": [
    "Here we have b1=b2=(-3/4) --> $\\rho ^ 2$ = b1 * b2 = $(-3/4) ^ 2$ --> $\\rho$ = -3/4 (minus because the reverse in b1 b2)"
   ]
  }
 ],
 "metadata": {
  "kernelspec": {
   "display_name": "Python 3",
   "language": "python",
   "name": "python3"
  },
  "language_info": {
   "codemirror_mode": {
    "name": "ipython",
    "version": 3
   },
   "file_extension": ".py",
   "mimetype": "text/x-python",
   "name": "python",
   "nbconvert_exporter": "python",
   "pygments_lexer": "ipython3",
   "version": "3.5.2"
  }
 },
 "nbformat": 4,
 "nbformat_minor": 2
}
