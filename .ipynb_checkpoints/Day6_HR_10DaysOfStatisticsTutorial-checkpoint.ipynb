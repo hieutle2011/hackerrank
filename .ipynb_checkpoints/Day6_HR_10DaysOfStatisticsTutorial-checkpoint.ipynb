{
 "cells": [
  {
   "cell_type": "markdown",
   "metadata": {},
   "source": [
    "# The Central Limit Theorem"
   ]
  },
  {
   "cell_type": "markdown",
   "metadata": {},
   "source": [
    "Tutorial https://www.hackerrank.com/challenges/s10-the-central-limit-theorem-1/tutorial"
   ]
  },
  {
   "cell_type": "markdown",
   "metadata": {},
   "source": [
    "### Exercise"
   ]
  },
  {
   "cell_type": "code",
   "execution_count": 14,
   "metadata": {},
   "outputs": [
    {
     "name": "stdout",
     "output_type": "stream",
     "text": [
      "0.0098\n"
     ]
    }
   ],
   "source": [
    "'''Standardized Z'''\n",
    "import math\n",
    "\n",
    "max_load = 9800 # max load can be transported (pounds)\n",
    "n = 49 # number of box\n",
    "# Box weight follows distribution ~ (mean = 205, stdev = 15)\n",
    "mean = 205 # per box (pounds)\n",
    "stdev = 15 # per box(pounds)\n",
    "\n",
    "# for sum S (of all 49 boxes) is close to normal distribution with\n",
    "MEAN = mean * n\n",
    "STDEV = stdev * math.sqrt(n)\n",
    "# Standardize z to make a standard nomal distribution\n",
    "S = (max_load - MEAN) / STDEV\n",
    "\n",
    "def phi(x):\n",
    "    'Cumulative distribution function for the standard normal distribution'\n",
    "    return (1.0 + math.erf(x / math.sqrt(2.0))) / 2.0\n",
    "\n",
    "# Probability that elevator can safely transport all 49 boxes (Weight of 49 boxes is below max_load)\n",
    "result = phi(S)\n",
    "print(round(result, 4))"
   ]
  },
  {
   "cell_type": "markdown",
   "metadata": {},
   "source": [
    "### Exercise II"
   ]
  },
  {
   "cell_type": "code",
   "execution_count": 12,
   "metadata": {},
   "outputs": [
    {
     "name": "stdout",
     "output_type": "stream",
     "text": [
      "0.6915\n"
     ]
    }
   ],
   "source": [
    "import math\n",
    "'''question'''\n",
    "# number of student\n",
    "n = 100\n",
    "# number of ticket per student ~ (mean = 2.4, stdev = 2.0)\n",
    "mean = 2.4\n",
    "stdev = 2.0\n",
    "# number of ticket left\n",
    "left = 250\n",
    "# what is the probability that all 100 students will be able to purchase tickets?\n",
    "'''answer'''\n",
    "# Sum ticket (S variable ~ (MEAN, STDEV))\n",
    "MEAN = n * mean\n",
    "STDEV = math.sqrt(n) * stdev\n",
    "S = (left - MEAN) / STDEV\n",
    "\n",
    "def phi(x):\n",
    "    'Cumulative distribution function for the standard normal distribution'\n",
    "    return (1.0 + math.erf(x / math.sqrt(2.0))) / 2.0\n",
    "\n",
    "print(round(phi(S),4))"
   ]
  },
  {
   "cell_type": "markdown",
   "metadata": {},
   "source": [
    "### Exercise III"
   ]
  },
  {
   "cell_type": "code",
   "execution_count": 17,
   "metadata": {},
   "outputs": [
    {
     "name": "stdout",
     "output_type": "stream",
     "text": [
      "484.4\n",
      "515.6\n"
     ]
    }
   ],
   "source": [
    "import math\n",
    "'''question'''\n",
    "# sample of 100 from a population ~ (mean_pop = 500, stdev_pop = 80)\n",
    "n = 100\n",
    "mean_pop = 500\n",
    "stdev_pop = 80\n",
    "\n",
    "# sample ~ (mean_sam = mean_pop, stdev_sam = stdev_pop / math.sqrt(n))\n",
    "mean_sam = mean_pop\n",
    "stdev_sam = stdev_pop / math.sqrt(n)\n",
    "\n",
    "# Compute the interval that covers the middle 95% of the distribution of the sample mean\n",
    "p = .95\n",
    "# z score = 1.95\n",
    "z = 1.95\n",
    "\n",
    "'''answer'''\n",
    "A = mean_sam - stdev_sam * z\n",
    "B = mean_sam + stdev_sam * z\n",
    "print(round(A, 2))\n",
    "print(round(B, 2))"
   ]
  }
 ],
 "metadata": {
  "kernelspec": {
   "display_name": "Python 3",
   "language": "python",
   "name": "python3"
  },
  "language_info": {
   "codemirror_mode": {
    "name": "ipython",
    "version": 3
   },
   "file_extension": ".py",
   "mimetype": "text/x-python",
   "name": "python",
   "nbconvert_exporter": "python",
   "pygments_lexer": "ipython3",
   "version": "3.5.2"
  }
 },
 "nbformat": 4,
 "nbformat_minor": 2
}
