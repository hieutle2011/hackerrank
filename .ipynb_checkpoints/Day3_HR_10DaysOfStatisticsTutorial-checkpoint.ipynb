{
 "cells": [
  {
   "cell_type": "markdown",
   "metadata": {},
   "source": [
    "# Conditional Probability"
   ]
  },
  {
   "cell_type": "markdown",
   "metadata": {},
   "source": [
    "Q: Suppose a family has 2 children, one of which is a boy. What is the probability that both children are boys?"
   ]
  },
  {
   "cell_type": "raw",
   "metadata": {},
   "source": [
    "bb / (bb + bg + gb) == 1/3"
   ]
  },
  {
   "cell_type": "raw",
   "metadata": {
    "collapsed": true
   },
   "source": [
    "Bayes theorem: P(A|B) denotes probability of the occurence of event A given B has occurred"
   ]
  },
  {
   "cell_type": "markdown",
   "metadata": {},
   "source": [
    "# Cards of the Same Suit"
   ]
  },
  {
   "cell_type": "raw",
   "metadata": {},
   "source": [
    "As you may have already noticed, finding patterns in the possible ways events can occur is very useful in helping us count the number of desirable events in our sample space. Two of the easiest methods for doing this are with permutations (when order matters) and combinations (when order doesn't matter). "
   ]
  },
  {
   "cell_type": "raw",
   "metadata": {},
   "source": [
    "There are 13C2 ways to choose 2 cards from the same suit.\n",
    "There are 52C2 ways to choose 2 cards from deck.\n",
    "We have 4 suits ( 4 suits * 13 cards = 52 cards)\n",
    "Probability of picking 2 cards from the same suit is 4 * 13C2 / 52C2 = 4/17\n"
   ]
  },
  {
   "cell_type": "raw",
   "metadata": {},
   "source": [
    "nCr <- Combinations\n",
    "nPr <- Permutations\n",
    "0<r<n\n",
    "# tổ hợp"
   ]
  }
 ],
 "metadata": {
  "kernelspec": {
   "display_name": "Python 3",
   "language": "python",
   "name": "python3"
  },
  "language_info": {
   "codemirror_mode": {
    "name": "ipython",
    "version": 3
   },
   "file_extension": ".py",
   "mimetype": "text/x-python",
   "name": "python",
   "nbconvert_exporter": "python",
   "pygments_lexer": "ipython3",
   "version": "3.5.2"
  }
 },
 "nbformat": 4,
 "nbformat_minor": 2
}
