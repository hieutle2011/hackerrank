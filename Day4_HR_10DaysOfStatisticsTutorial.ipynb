{
 "cells": [
  {
   "cell_type": "markdown",
   "metadata": {},
   "source": [
    "# Topic in day 4"
   ]
  },
  {
   "cell_type": "raw",
   "metadata": {},
   "source": [
    "Binomial Distribution\n",
    "Geometric Distribution"
   ]
  },
  {
   "cell_type": "markdown",
   "metadata": {},
   "source": [
    "permutation /ˌpɝː.mjuːˈteɪ.ʃən/\n",
    "--> any of the various ways in which a set of things can be ordered\n",
    "\n",
    "combination /ˌkɑːm.bəˈneɪ.ʃən/\n",
    "--> two or more things are combined without being ordered\n",
    "\n",
    "factorial (giai thừa)\n",
    "--> In mathematics, the factorial of a non-negative integer n, denoted by n!, is the product of all positive integers less than or equal to n."
   ]
  },
  {
   "cell_type": "code",
   "execution_count": 9,
   "metadata": {},
   "outputs": [
    {
     "data": {
      "text/plain": [
       "6"
      ]
     },
     "execution_count": 9,
     "metadata": {},
     "output_type": "execute_result"
    }
   ],
   "source": [
    "import math\n",
    "math.factorial(3)"
   ]
  },
  {
   "cell_type": "code",
   "execution_count": 13,
   "metadata": {},
   "outputs": [
    {
     "name": "stdout",
     "output_type": "stream",
     "text": [
      "60 10\n"
     ]
    }
   ],
   "source": [
    "import math\n",
    "def P(r, n):\n",
    "    '''Permutations are ordered:\n",
    "    The number of r-element permutations of an n-object set '''\n",
    "    return math.factorial(n)//math.factorial(n-r)\n",
    "\n",
    "def C(r, n):\n",
    "    '''Combinations are unordered:\n",
    "    The number of r-element combinations of an n-object set '''\n",
    "    return math.factorial(n)//(math.factorial(n-r)*math.factorial(r))\n",
    "\n",
    "print(P(3, 5), C(3, 5))"
   ]
  },
  {
   "cell_type": "markdown",
   "metadata": {},
   "source": [
    "# Binomial Distribution"
   ]
  },
  {
   "cell_type": "markdown",
   "metadata": {},
   "source": [
    "b(x,n,p)  is the binomial probability, meaning the probability of having exactly x successes out of n trials. \n",
    "Binomial means outcome either success or failure\n",
    "x trials are independent in total number of n repeated trials (0<x<n)\n",
    "probability of 1 success trail is p --> Prob(failure) = 1-p\n",
    "\n",
    "b(x,n,p) = combination(x,n) * (p**x) * (1-p)**(n-x)\n"
   ]
  },
  {
   "cell_type": "code",
   "execution_count": 18,
   "metadata": {},
   "outputs": [
    {
     "data": {
      "text/plain": [
       "0.24609375"
      ]
     },
     "execution_count": 18,
     "metadata": {},
     "output_type": "execute_result"
    }
   ],
   "source": [
    "def B(x,n,p):\n",
    "    def C(x, n):\n",
    "        return math.factorial(n)//(math.factorial(n-x)*math.factorial(x))\n",
    "    return C(x, n) * p**(x) * (1-p)**(n-x)\n",
    "B(5, 10, 0.5)"
   ]
  },
  {
   "cell_type": "markdown",
   "metadata": {},
   "source": [
    "Example: A fair coin is tossed 10 times. Find the following probabilities:\n",
    "    Getting 5 heads."
   ]
  },
  {
   "cell_type": "code",
   "execution_count": 24,
   "metadata": {},
   "outputs": [
    {
     "name": "stdout",
     "output_type": "stream",
     "text": [
      "0.24609375\n",
      "0.623046875\n",
      "0.623\n"
     ]
    }
   ],
   "source": [
    "#Probability of getting 5 heads \n",
    "print(B(5, 10, 0.5))\n",
    "#The probability of getting at least 5 heads (x >=5) is:\n",
    "result = 0\n",
    "for i in range(5,11):\n",
    "    result += B(i, 10, 0.5)\n",
    "print(result)\n",
    "#The probability of getting at most 5 heads (x <=5) is:\n",
    "result = 0\n",
    "for i in range(0,6):\n",
    "    result += B(i, 10, 0.5)\n",
    "print(round(result, 3))\n"
   ]
  },
  {
   "cell_type": "markdown",
   "metadata": {},
   "source": [
    "### Russian family exercise"
   ]
  },
  {
   "cell_type": "markdown",
   "metadata": {},
   "source": [
    "Questions: boy to girl ratio is 1.09 to 1. What is probability a family with 6 children have at least 3 boys?"
   ]
  },
  {
   "cell_type": "code",
   "execution_count": 31,
   "metadata": {},
   "outputs": [
    {
     "name": "stdout",
     "output_type": "stream",
     "text": [
      "0.696\n"
     ]
    }
   ],
   "source": [
    "import math\n",
    "#Binominal probability\n",
    "def B(x,n,p):\n",
    "    def C(x, n):\n",
    "        return math.factorial(n)//(math.factorial(n-x)*math.factorial(x))\n",
    "    return C(x, n) * p**(x) * (1-p)**(n-x)\n",
    "\n",
    "#Calculate the probability of a boy and a girl\n",
    "number = [1.09, 1]\n",
    "prob_b = number[0]/ sum(number)\n",
    "prob_g = 1 - prob_b\n",
    "\n",
    "#Calculate the Cumulative Probability of at least 3 boys (x>=3) in 6 children (n=6)\n",
    "x = 3\n",
    "n = 6\n",
    "result = 0\n",
    "for i in range(x, n+1):\n",
    "    result += B(i, n, prob_b)\n",
    "\n",
    "#Print result and round to 3 decimal places\n",
    "print(round(result, 3))"
   ]
  },
  {
   "cell_type": "markdown",
   "metadata": {},
   "source": [
    "# Binomial Distribution II"
   ]
  },
  {
   "cell_type": "markdown",
   "metadata": {},
   "source": [
    "### Pistons exercise"
   ]
  },
  {
   "cell_type": "code",
   "execution_count": 32,
   "metadata": {
    "collapsed": true
   },
   "outputs": [],
   "source": [
    "# rate of rejected piston 12% --> p = .12\n",
    "# batch of 10 pistons --> n = 10\n",
    "# Q1: prob of no more than 2 rejects --> x <=2\n",
    "# Q2: prob of at least 2 rejects --> x>=2"
   ]
  },
  {
   "cell_type": "code",
   "execution_count": 35,
   "metadata": {},
   "outputs": [
    {
     "name": "stdout",
     "output_type": "stream",
     "text": [
      "0.891\n",
      "0.342\n"
     ]
    }
   ],
   "source": [
    "import math\n",
    "\n",
    "#Binominal probability\n",
    "def B(x,n,p):\n",
    "    def C(x, n):\n",
    "        return math.factorial(n)//(math.factorial(n-x)*math.factorial(x))\n",
    "    return C(x, n) * p**(x) * (1-p)**(n-x)\n",
    "\n",
    "#Data from exercise\n",
    "x = 2\n",
    "n = 10\n",
    "p = 0.12\n",
    "\n",
    "#Calculate the Cumulative Probability of no more than 2 rejects (range[:,3])\n",
    "q1 = 0\n",
    "for i in range(0, x+1):\n",
    "    q1 += B(i, n, p)\n",
    "\n",
    "#Calculate the Cumulative Probability of at least 2 rejects (range[2,11])\n",
    "q2 = 0\n",
    "for i in range(x, n+1):\n",
    "    q2 += B(i, n, p)\n",
    "\n",
    "#Print result and round to 3 decimal places\n",
    "print(round(q1, 3))\n",
    "print(round(q2, 3))"
   ]
  },
  {
   "cell_type": "code",
   "execution_count": null,
   "metadata": {
    "collapsed": true
   },
   "outputs": [],
   "source": []
  }
 ],
 "metadata": {
  "kernelspec": {
   "display_name": "Python 3",
   "language": "python",
   "name": "python3"
  },
  "language_info": {
   "codemirror_mode": {
    "name": "ipython",
    "version": 3
   },
   "file_extension": ".py",
   "mimetype": "text/x-python",
   "name": "python",
   "nbconvert_exporter": "python",
   "pygments_lexer": "ipython3",
   "version": "3.5.2"
  }
 },
 "nbformat": 4,
 "nbformat_minor": 2
}
